{
 "cells": [
  {
   "cell_type": "code",
   "execution_count": 2,
   "metadata": {},
   "outputs": [
    {
     "name": "stdout",
     "output_type": "stream",
     "text": [
      "andy Seja bem vindo (a)\n"
     ]
    }
   ],
   "source": [
    "#Atividade UTILIZE VARIÁVEIS!!!!!! \n",
    "\n",
    "#1 Imprima uma mensagem de boas-vindas na tela.\n",
    "\n",
    "nome = input(\"Informe seu nome\")\n",
    "print(f\"{nome} Seja bem vindo (a)\")"
   ]
  },
  {
   "cell_type": "code",
   "execution_count": 4,
   "metadata": {},
   "outputs": [
    {
     "name": "stdout",
     "output_type": "stream",
     "text": [
      "True\n",
      "<class 'int'>\n"
     ]
    }
   ],
   "source": [
    "# 2 2 Declare uma variável booleana verdadeiro com o valor True e imprima seu tipo\n",
    "n1 =3\n",
    "n2 = 3\n",
    "resultado = n1 >= n2\n",
    "tipo = type(n1)\n",
    "print(resultado)\n",
    "print(tipo)\n"
   ]
  },
  {
   "cell_type": "code",
   "execution_count": 12,
   "metadata": {},
   "outputs": [
    {
     "name": "stdout",
     "output_type": "stream",
     "text": [
      "O resultado da multiplicação de 1.5 * 9.5 é 14.25\n"
     ]
    }
   ],
   "source": [
    "# 3 Imprima o resultado da multiplicação de dois números decimais de sua escolha\n",
    "\n",
    "n1 = float(input(\"Digite o primeiro numero decimal\"))\n",
    "n2 = float(input(\"Digite o primeiro numero decimal\"))\n",
    "mult = n1 * n2\n",
    "print(f\"O resultado da multiplicação de {n1} * {n2} é {mult}\")\n"
   ]
  },
  {
   "cell_type": "code",
   "execution_count": null,
   "metadata": {},
   "outputs": [
    {
     "name": "stdout",
     "output_type": "stream",
     "text": [
      "O resultado da mudivisão de 10 / 5 é 2.0\n"
     ]
    }
   ],
   "source": [
    "# 4 Imprima o resultado da divisão de dois números inteiros de sua escolha.\n",
    "\n",
    "n1 = int(input(\"Digite o primeiro numero inteiro\"))\n",
    "n2 = int(input(\"Digite o primeiro numero inteiro\"))\n",
    "divisao = n1 / n2\n",
    "print(f\"O resultado da divisão de {n1} / {n2} é {divisao}\")"
   ]
  },
  {
   "cell_type": "code",
   "execution_count": 15,
   "metadata": {},
   "outputs": [
    {
     "name": "stdout",
     "output_type": "stream",
     "text": [
      "O resultado da subtracao de 10 - 8 é 2\n"
     ]
    }
   ],
   "source": [
    "# 5 Imprima o resultado da subtração de dois números inteiros de sua escolha\n",
    "\n",
    "n1 = int(input(\"Digite o primeiro numero inteiro\"))\n",
    "n2 = int(input(\"Digite o primeiro numero inteiro\"))\n",
    "subtracao = n1 - n2\n",
    "print(f\"O resultado da subtracao de {n1} - {n2} é {subtracao}\")"
   ]
  },
  {
   "cell_type": "code",
   "execution_count": 16,
   "metadata": {},
   "outputs": [
    {
     "name": "stdout",
     "output_type": "stream",
     "text": [
      "O resultado da divisão de 112 / 20 é 5.6\n"
     ]
    }
   ],
   "source": [
    "# 6 Imprima o resultado da divisão inteira de dois números inteiros de sua escolha.\n",
    "\n",
    "n1 = int(input(\"Digite o primeiro numero inteiro\"))\n",
    "n2 = int(input(\"Digite o primeiro numero inteiro\"))\n",
    "divisao = n1 / n2\n",
    "print(f\"O resultado da divisão de {n1} / {n2} é {divisao}\")\n"
   ]
  },
  {
   "cell_type": "code",
   "execution_count": 18,
   "metadata": {},
   "outputs": [
    {
     "name": "stdout",
     "output_type": "stream",
     "text": [
      "O resultado da multiplicação de 4 numeros decimais: 2.0 * 2.0 * 2.0 * 2.0 é 16.0\n"
     ]
    }
   ],
   "source": [
    "# 7 Imprima o resultado da multiplicação de 4 números decimais de sua escolha\n",
    "\n",
    "n1 = float(input(\"Digite o primeiro numero decimal\"))\n",
    "n2 = float(input(\"Digite o segundo numero decimal\"))\n",
    "n3 = float(input(\"Digite o terceiro numero decimal\"))\n",
    "n4 = float(input(\"Digite o quarto numero decimal\"))\n",
    "multiplicacao = n1 * n2 * n3 * n4\n",
    "print(f\"O resultado da multiplicação de 4 numeros decimais: {n1} * {n2} * {n3} * {n4} é {multiplicacao}\")\n"
   ]
  },
  {
   "cell_type": "code",
   "execution_count": 19,
   "metadata": {},
   "outputs": [
    {
     "name": "stdout",
     "output_type": "stream",
     "text": [
      "4\n"
     ]
    }
   ],
   "source": [
    "# 8 Declare uma variável numero e atribua um número inteiro. Em seguida, imprima o dobro desse número\n",
    "\n",
    "numero = 2\n",
    "dobro_numero = 2 ** 2\n",
    "print(dobro_numero)"
   ]
  },
  {
   "cell_type": "code",
   "execution_count": 20,
   "metadata": {},
   "outputs": [
    {
     "name": "stdout",
     "output_type": "stream",
     "text": [
      "A soma do primeiro numero 10 mais o segundo número 10 é: 20\n"
     ]
    }
   ],
   "source": [
    "# 9 Crie uma calculadora de soma com as ferramentas que vc já conhece(Use apenas input, print e variavel)\n",
    "\n",
    "n1 = int(input(\"Insira um numero\"))\n",
    "n2 = int(input(\"Insira um numero\"))\n",
    "soma = (n1 + n2)\n",
    "print(f\"A soma do primeiro numero {n1} mais o segundo número {n2} é: {soma}\")\n"
   ]
  },
  {
   "cell_type": "code",
   "execution_count": null,
   "metadata": {},
   "outputs": [
    {
     "name": "stdout",
     "output_type": "stream",
     "text": [
      "Seja Bem vindo (a) Andreza ao Sistema de Cadastro de Funcionário da Empresa Dell SA\n",
      "Os nomes dos funcionários inseridos nesta data são: Ana, Beto e Bruna\n",
      "Até logo Andreza obrigada por utilizar nosso sistema de cadastro\n"
     ]
    }
   ],
   "source": [
    "# 10 Crie um sistema de cadastro com as estruturas que vc já conhece(Use apenas input, print e variavel)\n",
    "\n",
    "nome = input (\"Informe o nome do usuário\")\n",
    "print(f\"Seja Bem vindo (a) {nome} ao Sistema de Cadastro de Funcionário da Empresa Dell SA\")\n",
    "\n",
    "func1 = str(input(\"Inserir o nome do primeiro funcionario\"))\n",
    "func2 = str(input(\"Inserir o nome do segundo funcionario\"))\n",
    "func3 = str(input(\"Inserir o nome do terceiro funcionario\"))\n",
    "\n",
    "print(f\"Os nomes dos funcionários inseridos nesta data são: {func1}, {func2} e {func3}\")\n",
    "print(f\"Até logo {nome} obrigada por utilizar nosso sistema de cadastro!!\")\n",
    "\n"
   ]
  }
 ],
 "metadata": {
  "kernelspec": {
   "display_name": "Python 3",
   "language": "python",
   "name": "python3"
  },
  "language_info": {
   "codemirror_mode": {
    "name": "ipython",
    "version": 3
   },
   "file_extension": ".py",
   "mimetype": "text/x-python",
   "name": "python",
   "nbconvert_exporter": "python",
   "pygments_lexer": "ipython3",
   "version": "3.13.0"
  }
 },
 "nbformat": 4,
 "nbformat_minor": 2
}
